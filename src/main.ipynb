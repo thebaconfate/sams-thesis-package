{
 "cells": [
  {
   "cell_type": "markdown",
   "metadata": {},
   "source": [
    "# Introduction to data science\n",
    "Author: Gérard Lichtert\n",
    "\n",
    "## Introduction\n",
    "This notebook is to clean data from a csv, it removes unnecesary columns, computes means and saves the processed data to a new csv file found in the output folder.\n",
    "\n",
    "It will also make a new dataframe containing averages per day per participant and save it to a csv for the OBSE survey\n",
    "\n",
    "## Usage\n",
    "Following the instructions in the README.md file is crucial for installation. Prior to execution make sure to have that the CSV files are correctly structured. By this I mean that sometimes a CSV file can have unexpected quotation marks between columns, making it one big column. The easiest thing you can do, only if there are no column names containing a comma is to use CTRL+F to find all the quotation characters and replacing them by nothing (or an empty space). You might find the replace-all function beneficial for this. \n",
    "\n",
    "Currently the notebook works under the assumption that you have no \"\\<no-response\\>\" or \"\\<not-shown\\>\" in your dataset. If you do, replace them with null or just an empty space."
   ]
  },
  {
   "cell_type": "markdown",
   "metadata": {},
   "source": [
    "## Variables you can change\n",
    "In the following code cells you can change the variables as you need as these will be the columns that need to be removed from the OBSE survey and the other one respectively."
   ]
  },
  {
   "cell_type": "code",
   "execution_count": 210,
   "metadata": {},
   "outputs": [],
   "source": [
    "# This is a list of headers we want to delete (exluding the ones with _TZ, _RT and _TZ) from the OBSE survey\n",
    "# the headers with _TZ, _RT and _TZ will be removed automatically.\n",
    "HEADERS_TO_DROP_FINAL_SURVEY: list[str] = [\n",
    "    \"Start Date\",\n",
    "    \"End Date\",\n",
    "    \"Response Type\",\n",
    "    \"IP Address\",\n",
    "    \"Progress\",\n",
    "    \"Duration (in seconds)\",\n",
    "    \"Finished\",\n",
    "    \"Recorded Date\",\n",
    "    \"Response ID\",\n",
    "    \"Recipient Last Name\",\n",
    "    \"Recipient First Name\",\n",
    "    \"External Data Reference\",\n",
    "    \"Location Latitude\",\n",
    "    \"Location Longitude\",\n",
    "    \"Distribution Channel\",\n",
    "    \"User Language\",\n",
    "    \"Recipient Email\",\n",
    "]"
   ]
  },
  {
   "cell_type": "code",
   "execution_count": 211,
   "metadata": {},
   "outputs": [],
   "source": [
    "# This is a list of headers we want to delete (exluding the ones with _TZ, _RT and _TZ) from the afvar survey\n",
    "# the headers with _TZ, _RT and _TZ will be removed automatically.\n",
    "HEADERS_TO_DROP_SEMA_AND_OBSE = [\n",
    "    \"STUDY_ID\",\n",
    "    \"STUDY_NAME\",\n",
    "    \"STUDY_VERSION\",\n",
    "    \"SURVEY_ID\",\n",
    "    \"TRIGGER\",\n",
    "    \"EXPORT_TZ\",\n",
    "    \"START_END\",\n",
    "    \"CREATED_TS\",\n",
    "    \"SCHEDULED_TS\",\n",
    "    \"STARTED_TS\",\n",
    "    \"EXPIRED_TS\",\n",
    "    \"TOTAL_RT\",\n",
    "    \"RAND_PROB\",\n",
    "    \"PARTICIPANT_TZ\",\n",
    "]"
   ]
  },
  {
   "cell_type": "code",
   "execution_count": 212,
   "metadata": {},
   "outputs": [],
   "source": [
    "HEADERS_TO_DROP_FROM_DEMOGRAPHICS: list[str] = [\n",
    "    \"Start Date\",\n",
    "    \"End Date\",\n",
    "    \"Response Type\",\n",
    "    \"IP Address\",\n",
    "    \"Progress\",\n",
    "    \"Duration (in seconds)\",\n",
    "    \"Finished\",\n",
    "    \"Recorded Date\",\n",
    "    \"Response ID\",\n",
    "    \"Recipient Last Name\",\n",
    "    \"Recipient First Name\",\n",
    "    \"Recipient Email\",\n",
    "    \"External Data Reference\",\n",
    "    \"Location Latitude\",\n",
    "    \"Location Longitude\",\n",
    "    \"Distribution Channel\",\n",
    "    \"User Language\",\n",
    "    \"Beste participant,\\r\\n\\r\\nHartelijk dank voor uw deelname aan dit onderzoek.\\r\\n\\r\\n\\r\\n\\r\\nHet onderzoek\\r\\n\\r\\nhet onderzoek bestaat uit twee delen en peilt naar de relatie met uw werk. Deze enquête vormt het eerste deel van het onderzoek. De enquête bevat tien vragen en neemt ongeveer één minuut in beslag. Deze enquête gaat na of u in aanmerking komt voor het tweede deel van het onderzoek betreffende de relatie met uw werk. We vragen uw e-mailadres om u vervolgens een uitnodiging tot de app SEMA3 te sturen. Via deze app zal u het tweede deel van het onderzoek kunnen vervolledigen. \\r\\n\\r\\n\\r\\n\\r\\nProcedure\\r\\n\\r\\nHet onderzoek zelf of het tweede deel betreft een dagboekonderzoek. Hierbij zal u 20 werkdagen lang om 18h een vragenlijst krijgen, waarin u bevraagd zal worden over uw werkdag. Het invullen van deze vragenlijst zal niet langer duren dan 1 minuut. U heeft de tijd tot 24h om deze vragenlijst in te vullen. Participanten die aan 80% of meer meetmomenten deelnamen krijgen een vergoeding voor hun participatie.\\r\\n\\r\\n\\r\\n\\r\\nWat gebeurt er met mijn gegevens?\\r\\n\\r\\nDe verzamelde gegevens worden alleen gebruikt voor wetenschappelijke doeleinden en worden vertrouwelijk behandeld in overeenstemming met de Europese Algemene Verordening Gegevensbescherming (GDPR). Uw deelname is vrijwillig en u kunt op elk moment beslissen om het onderzoek zonder het geven van een reden te beëindigen. Voor meer informatie over uw rechten en de behandeling van de gegevens kunt u contact opnemen met de verantwoordelijke afdeling aan de VUB (dpo@vub.be).\\r\\n\\r\\n\\r\\n\\r\\nContact\\r\\n\\r\\nAls u vragen en/of opmerkingen hebt over dit onderzoek, kunt u ze hieronder meegeven of contact opnemen met Sam de Pape (Sam.De.Pape@vub.be) of Jules Joukes (Jules.Sabine.P.Joukes@vub.be), of met superviserend professor Joeri Hofmans (Joeri.Hofmans@vub.be).\",\n",
    "    \"Door deze enquête in te vullen, ga ik akkoord met mijn deelname aan dit onderzoek en met de verwerking van mijn persoonlijke gegevens in overeenstemming met de Europese Algemene Verordening Gegevensbescherming (GDPR) door de onderzoekers van de VUB.\",\n",
    "    \"Gaat u volgende maand minstens één week op vakantie? - Selected Choice\",\n",
    "    \"Gaat u volgende maand minstens één week op vakantie? - Andere, namelijk: - Text\",\n",
    "]"
   ]
  },
  {
   "cell_type": "code",
   "execution_count": 213,
   "metadata": {},
   "outputs": [],
   "source": [
    "KEEP = [\n",
    "    \"PARTICIPANT_ID\",\n",
    "]"
   ]
  },
  {
   "cell_type": "code",
   "execution_count": 214,
   "metadata": {},
   "outputs": [],
   "source": [
    "OBSE_COLUMNS = KEEP + [\n",
    "    \"UPLOADED_TS\",\n",
    "    \"ACTIVITEIT\",\n",
    "    \"1\",\n",
    "    \"2\",\n",
    "    \"3\",\n",
    "    \"4\",\n",
    "    \"5\",\n",
    "    \"6\",\n",
    "    \"7\",\n",
    "    \"8\",\n",
    "    \"9\",\n",
    "    \"10\",\n",
    "]"
   ]
  },
  {
   "cell_type": "code",
   "execution_count": 215,
   "metadata": {},
   "outputs": [],
   "source": [
    "SEMA_FINAL_SURVEY_SCHAAL_1_COLUMNS = [\n",
    "    \"WERKOMSTANDIGHEDEN_1\",\n",
    "    \"WERKOMSTANDIGHEDEN_2\",\n",
    "    \"WERKOMSTANDIGHEDEN_3\",\n",
    "    \"WERKOMSTANDIGHEDEN_4\",\n",
    "    \"WERKOMSTANDIGHEDEN_5\",\n",
    "    \"WERKMETHODE_1\",\n",
    "    \"WERKMETHODE_2\",\n",
    "    \"WERKMETHODE_3\",\n",
    "    \"WERKMETHODE_4\",\n",
    "    \"WERKMETHODE_5\",\n",
    "    \"COLLEGA'S_1\",\n",
    "    \"COLLEGA'S_2\",\n",
    "    \"COLLEGA'S_3\",\n",
    "    \"COLLEGA'S_4\",\n",
    "    \"COLLEGA'S_5\",\n",
    "    \"ERKENNING_1\",\n",
    "    \"ERKENNING_2\",\n",
    "    \"ERKENNING_3\",\n",
    "    \"ERKENNING_4\",\n",
    "    \"ERKENNING_5\",\n",
    "    \"BAAS_1\",\n",
    "    \"BAAS_2\",\n",
    "    \"BAAS_3\",\n",
    "    \"BAAS_4\",\n",
    "    \"BAAS_5\",\n",
    "    \"VERANTWOORDELIJKHEID_1\",\n",
    "    \"VERANTWOORDELIJKHEID_2\",\n",
    "    \"VERANTWOORDELIJKHEID_3\",\n",
    "    \"VERANTWOORDELIJKHEID_4\",\n",
    "    \"VERANTWOORDELIJKHEID_5\",\n",
    "    \"SALARIS_1\",\n",
    "    \"SALARIS_2\",\n",
    "    \"SALARIS_3\",\n",
    "    \"SALARIS_4\",\n",
    "    \"SALARIS_5\",\n",
    "    \"CAPACITEITEN_1\",\n",
    "    \"CAPACITEITEN_2\",\n",
    "    \"CAPACITEITEN_3\",\n",
    "    \"CAPACITEITEN_4\",\n",
    "    \"CAPACITEITEN_5\",\n",
    "    \"ARBEIDSVERHOUDING_1\",\n",
    "    \"ARBEIDSVERHOUDING_2\",\n",
    "    \"ARBEIDSVERHOUDING_3\",\n",
    "    \"ARBEIDSVERHOUDING_4\",\n",
    "    \"ARBEIDSVERHOUDING_5\",\n",
    "    \"PROMOTIE_1\",\n",
    "    \"PROMOTIE_2\",\n",
    "    \"PROMOTIE_3\",\n",
    "    \"PROMOTIE_4\",\n",
    "    \"PROMOTIE_5\",\n",
    "    \"LEIDING_1\",\n",
    "    \"LEIDING_2\",\n",
    "    \"LEIDING_3\",\n",
    "    \"LEIDING_4\",\n",
    "    \"LEIDING_5\",\n",
    "    \"SUGGESTIES_1\",\n",
    "    \"SUGGESTIES_2\",\n",
    "    \"SUGGESTIES_3\",\n",
    "    \"SUGGESTIES_4\",\n",
    "    \"SUGGESTIES_5\",\n",
    "    \"WERKUREN_1\",\n",
    "    \"WERKUREN_2\",\n",
    "    \"WERKUREN_3\",\n",
    "    \"WERKUREN_4\",\n",
    "    \"WERKUREN_5\",\n",
    "    \"VARIATIE_1\",\n",
    "    \"VARIATIE_2\",\n",
    "    \"VARIATIE_3\",\n",
    "    \"VARIATIE_4\",\n",
    "    \"VARIATIE_5\",\n",
    "    \"WERKZEKERHEID_1\",\n",
    "    \"WERKZEKERHEID_2\",\n",
    "    \"WERKZEKERHEID_3\",\n",
    "    \"WERKZEKERHEID_4\",\n",
    "    \"WERKZEKERHEID_5\",\n",
    "    \"TOTAAL_1\",\n",
    "    \"TOTAAL_2\",\n",
    "    \"TOTAAL_3\",\n",
    "    \"TOTAAL_4\",\n",
    "    \"TOTAAL_5\",\n",
    "]\n",
    "SEMA_FINAL_SURVEY_SCHAAL_2_COLUMNS = [\n",
    "    \"IDEAAL\",\n",
    "    \"OMSTANDIGHEDEN\",\n",
    "    \"TEVREDEN\",\n",
    "    \"BELANGRIJKE_DINGEN\",\n",
    "    \"NIETS_VERANDEREN\",\n",
    "]\n",
    "\n",
    "SEMA_FINAL_SURVEY_SCHAAL_3_COLUMNS = [\n",
    "    \"GRONDIG\",\n",
    "    \"SLORDIGHEDEN\",\n",
    "    \"KWALITEITSEISEN\",\n",
    "    \"ANDEREN_PRIJZEN\",\n",
    "    \"PERSOONLIJKE_PROBLEMEN_COLLEGA'S\",\n",
    "    \"BESPREKEN_COLLEGA'S\",\n",
    "    \"SFEER_BEVORDEREN\",\n",
    "    \"GOED_VOELEN\",\n",
    "    \"FAIR_BEHANDELEN\",\n",
    "    \"HELPEN_ZONDER_VRAGEN\",\n",
    "    \"CREATIEVE_OPLOSSINGEN\",\n",
    "    \"VERSCHILLENDE_INVALSHOEKEN\",\n",
    "    \"INNOVATIEVE_STRATEGIEËN\",\n",
    "    \"ONVERWACHTE_WERKSITUATIES\",\n",
    "    \"BEPERKTE_INFORMATIE\",\n",
    "    \"VERANDERENDE_OMSTANDIGHEDEN\",\n",
    "    \"WERKDRUK\",\n",
    "    \"ONVERWACHT_NIEUWS\",\n",
    "    \"TEGENVALLEND_RESULTAAT\",\n",
    "]"
   ]
  },
  {
   "cell_type": "markdown",
   "metadata": {},
   "source": [
    "## Some libraries and definitions (do not change)\n"
   ]
  },
  {
   "cell_type": "code",
   "execution_count": 216,
   "metadata": {},
   "outputs": [],
   "source": [
    "from pathlib import Path\n",
    "import polars as pl\n",
    "\n",
    "resources = Path(\"../resources/in/\")\n",
    "out = Path(\"../resources/out/\")\n",
    "\n",
    "if not resources.parent.exists():\n",
    "    resources.parent.mkdir()\n",
    "if not out.exists():\n",
    "    out.mkdir()\n",
    "if not resources.exists():\n",
    "    resources.mkdir()\n",
    "\n",
    "\n",
    "def write_csv_and_excel(lf, filename):\n",
    "    try:\n",
    "        lf.sink_csv(f\"{out.as_posix()}/{filename}.csv\")\n",
    "    except Exception as _:\n",
    "        lf.collect().write_csv(f\"{out.as_posix()}/{filename}.csv\", )\n",
    "    lf.collect().write_excel(f\"{out.as_posix()}/{filename}.xlsx\")"
   ]
  },
  {
   "cell_type": "markdown",
   "metadata": {},
   "source": [
    "## reading and cleaning the data"
   ]
  },
  {
   "cell_type": "code",
   "execution_count": 217,
   "metadata": {},
   "outputs": [],
   "source": [
    "final_survey_lf: pl.LazyFrame = pl.scan_csv(\n",
    "    f\"{resources.as_posix()}/final_survey.csv\", separator=\";\"\n",
    ")\n",
    "sema_lf: pl.LazyFrame = pl.scan_csv(\n",
    "    resources.as_posix() + \"/\" + \"data_uit_SEMA3_OBSE_en_laatste_survey.csv\"\n",
    ")\n",
    "\"\"\"demographics_lf: pl.LazyFrame = pl.scan_csv(\n",
    "    resources.as_posix() + \"/\" + \"demografische_gegevens_eerste_survey.csv\"\n",
    ")\"\"\"\n",
    "keys: pl.LazyFrame = pl.scan_csv(\n",
    "    f\"{resources.as_posix()}/identificatie_key.csv\", separator=\";\"\n",
    ")\n",
    "\n",
    "\n",
    "def remove_headers(\n",
    "    lf: pl.LazyFrame, headers: list[str], del_timed_headers=True\n",
    ") -> pl.LazyFrame:\n",
    "    columns: list[str] = lf.columns\n",
    "    keep = [col for col in columns if col not in headers]\n",
    "    if del_timed_headers:\n",
    "        keep = [\n",
    "            col\n",
    "            for col in keep\n",
    "            if not col.endswith(\"_TZ\")\n",
    "            and not col.endswith(\"_RT\")\n",
    "            and not col.endswith(\"_TZ\")\n",
    "        ]\n",
    "    return lf.select(keep)"
   ]
  },
  {
   "cell_type": "code",
   "execution_count": 218,
   "metadata": {},
   "outputs": [],
   "source": [
    "\"\"\"demographics_lf = remove_headers(\n",
    "    demographics_lf, HEADERS_TO_DROP_FROM_DEMOGRAPHICS, False\n",
    ")\"\"\"\n",
    "final_survey_lf = final_survey_lf.filter(pl.col(\"Finished\") == 1).drop(\"Progress\")\n",
    "sema_en_obse_lf = remove_headers(sema_lf, HEADERS_TO_DROP_SEMA_AND_OBSE)\n",
    "obse_lf: pl.LazyFrame = sema_en_obse_lf.filter(pl.col(\"SURVEY_NAME\") == \"OBSE\")\n",
    "sema_lf: pl.LazyFrame = sema_en_obse_lf.filter(\n",
    "    pl.col(\"SURVEY_NAME\") == \"werktevredenheid/ SWLS/ PRESTATIE\"\n",
    ").select(\n",
    "    KEEP\n",
    "    + SEMA_FINAL_SURVEY_SCHAAL_1_COLUMNS\n",
    "    + SEMA_FINAL_SURVEY_SCHAAL_2_COLUMNS\n",
    "    + SEMA_FINAL_SURVEY_SCHAAL_3_COLUMNS\n",
    ")"
   ]
  },
  {
   "cell_type": "code",
   "execution_count": 219,
   "metadata": {},
   "outputs": [],
   "source": [
    "write_csv_and_excel(\n",
    "    obse_lf.select(\n",
    "        [\"PARTICIPANT_ID\", \"UPLOADED_TS\"] + [str(i) for i in range(1, 11)]\n",
    "    ).sort(\"UPLOADED_TS\"),\n",
    "    \"obse_raw_data\",\n",
    ")"
   ]
  },
  {
   "cell_type": "code",
   "execution_count": 220,
   "metadata": {},
   "outputs": [],
   "source": [
    "obse_lf: pl.LazyFrame = (\n",
    "    obse_lf.select(OBSE_COLUMNS)\n",
    "    .filter(pl.col(\"ACTIVITEIT\") == 1)\n",
    "    .cast({str(integer): pl.UInt8 for integer in range(1, 11)})\n",
    "    .filter(pl.col(\"1\").is_not_null())\n",
    "    .filter(pl.col(\"2\").is_not_null())\n",
    "    .filter(pl.col(\"3\").is_not_null())\n",
    "    .filter(pl.col(\"4\").is_not_null())\n",
    "    .filter(pl.col(\"5\").is_not_null())\n",
    "    .filter(pl.col(\"6\").is_not_null())\n",
    "    .filter(pl.col(\"7\").is_not_null())\n",
    "    .filter(pl.col(\"8\").is_not_null())\n",
    "    .filter(pl.col(\"9\").is_not_null())\n",
    "    .filter(pl.col(\"10\").is_not_null())\n",
    ")"
   ]
  },
  {
   "cell_type": "code",
   "execution_count": 221,
   "metadata": {},
   "outputs": [],
   "source": [
    "write_csv_and_excel(\n",
    "    obse_lf.drop(\"ACTIVITEIT\").sort(\"UPLOADED_TS\"), \"obse_raw_valid_data\"\n",
    ")"
   ]
  },
  {
   "cell_type": "code",
   "execution_count": 222,
   "metadata": {},
   "outputs": [],
   "source": [
    "sema_lf = (\n",
    "    sema_lf.filter(pl.col(\"WERKOMSTANDIGHEDEN_1\").is_not_null())\n",
    "    .filter(pl.col(\"WERKOMSTANDIGHEDEN_2\").is_not_null())\n",
    "    .filter(pl.col(\"WERKOMSTANDIGHEDEN_3\").is_not_null())\n",
    "    .filter(pl.col(\"WERKOMSTANDIGHEDEN_4\").is_not_null())\n",
    "    .filter(pl.col(\"WERKOMSTANDIGHEDEN_5\").is_not_null())\n",
    "    .filter(pl.col(\"WERKMETHODE_1\").is_not_null())\n",
    "    .filter(pl.col(\"WERKMETHODE_2\").is_not_null())\n",
    "    .filter(pl.col(\"WERKMETHODE_3\").is_not_null())\n",
    "    .filter(pl.col(\"WERKMETHODE_4\").is_not_null())\n",
    "    .filter(pl.col(\"WERKMETHODE_5\").is_not_null())\n",
    "    .filter(pl.col(\"COLLEGA'S_1\").is_not_null())\n",
    "    .filter(pl.col(\"COLLEGA'S_2\").is_not_null())\n",
    "    .filter(pl.col(\"COLLEGA'S_3\").is_not_null())\n",
    "    .filter(pl.col(\"COLLEGA'S_4\").is_not_null())\n",
    "    .filter(pl.col(\"COLLEGA'S_5\").is_not_null())\n",
    "    .filter(pl.col(\"ERKENNING_1\").is_not_null())\n",
    "    .filter(pl.col(\"ERKENNING_2\").is_not_null())\n",
    "    .filter(pl.col(\"ERKENNING_3\").is_not_null())\n",
    "    .filter(pl.col(\"ERKENNING_4\").is_not_null())\n",
    "    .filter(pl.col(\"ERKENNING_5\").is_not_null())\n",
    "    .filter(pl.col(\"BAAS_1\").is_not_null())\n",
    "    .filter(pl.col(\"BAAS_2\").is_not_null())\n",
    "    .filter(pl.col(\"BAAS_3\").is_not_null())\n",
    "    .filter(pl.col(\"BAAS_4\").is_not_null())\n",
    "    .filter(pl.col(\"BAAS_5\").is_not_null())\n",
    "    .filter(pl.col(\"VERANTWOORDELIJKHEID_1\").is_not_null())\n",
    "    .filter(pl.col(\"VERANTWOORDELIJKHEID_2\").is_not_null())\n",
    "    .filter(pl.col(\"VERANTWOORDELIJKHEID_3\").is_not_null())\n",
    "    .filter(pl.col(\"VERANTWOORDELIJKHEID_4\").is_not_null())\n",
    "    .filter(pl.col(\"VERANTWOORDELIJKHEID_5\").is_not_null())\n",
    "    .filter(pl.col(\"SALARIS_1\").is_not_null())\n",
    "    .filter(pl.col(\"SALARIS_2\").is_not_null())\n",
    "    .filter(pl.col(\"SALARIS_3\").is_not_null())\n",
    "    .filter(pl.col(\"SALARIS_4\").is_not_null())\n",
    "    .filter(pl.col(\"SALARIS_5\").is_not_null())\n",
    "    .filter(pl.col(\"CAPACITEITEN_1\").is_not_null())\n",
    "    .filter(pl.col(\"CAPACITEITEN_2\").is_not_null())\n",
    "    .filter(pl.col(\"CAPACITEITEN_3\").is_not_null())\n",
    "    .filter(pl.col(\"CAPACITEITEN_4\").is_not_null())\n",
    "    .filter(pl.col(\"CAPACITEITEN_5\").is_not_null())\n",
    "    .filter(pl.col(\"ARBEIDSVERHOUDING_1\").is_not_null())\n",
    "    .filter(pl.col(\"ARBEIDSVERHOUDING_2\").is_not_null())\n",
    "    .filter(pl.col(\"ARBEIDSVERHOUDING_3\").is_not_null())\n",
    "    .filter(pl.col(\"ARBEIDSVERHOUDING_4\").is_not_null())\n",
    "    .filter(pl.col(\"ARBEIDSVERHOUDING_5\").is_not_null())\n",
    "    .filter(pl.col(\"PROMOTIE_1\").is_not_null())\n",
    "    .filter(pl.col(\"PROMOTIE_2\").is_not_null())\n",
    "    .filter(pl.col(\"PROMOTIE_3\").is_not_null())\n",
    "    .filter(pl.col(\"PROMOTIE_4\").is_not_null())\n",
    "    .filter(pl.col(\"PROMOTIE_5\").is_not_null())\n",
    "    .filter(pl.col(\"LEIDING_1\").is_not_null())\n",
    "    .filter(pl.col(\"LEIDING_2\").is_not_null())\n",
    "    .filter(pl.col(\"LEIDING_3\").is_not_null())\n",
    "    .filter(pl.col(\"LEIDING_4\").is_not_null())\n",
    "    .filter(pl.col(\"LEIDING_5\").is_not_null())\n",
    "    .filter(pl.col(\"SUGGESTIES_1\").is_not_null())\n",
    "    .filter(pl.col(\"SUGGESTIES_2\").is_not_null())\n",
    "    .filter(pl.col(\"SUGGESTIES_3\").is_not_null())\n",
    "    .filter(pl.col(\"SUGGESTIES_4\").is_not_null())\n",
    "    .filter(pl.col(\"SUGGESTIES_5\").is_not_null())\n",
    "    .filter(pl.col(\"WERKUREN_1\").is_not_null())\n",
    "    .filter(pl.col(\"WERKUREN_2\").is_not_null())\n",
    "    .filter(pl.col(\"WERKUREN_3\").is_not_null())\n",
    "    .filter(pl.col(\"WERKUREN_4\").is_not_null())\n",
    "    .filter(pl.col(\"WERKUREN_5\").is_not_null())\n",
    "    .filter(pl.col(\"VARIATIE_1\").is_not_null())\n",
    "    .filter(pl.col(\"VARIATIE_2\").is_not_null())\n",
    "    .filter(pl.col(\"VARIATIE_3\").is_not_null())\n",
    "    .filter(pl.col(\"VARIATIE_4\").is_not_null())\n",
    "    .filter(pl.col(\"VARIATIE_5\").is_not_null())\n",
    "    .filter(pl.col(\"WERKZEKERHEID_1\").is_not_null())\n",
    "    .filter(pl.col(\"WERKZEKERHEID_2\").is_not_null())\n",
    "    .filter(pl.col(\"WERKZEKERHEID_3\").is_not_null())\n",
    "    .filter(pl.col(\"WERKZEKERHEID_4\").is_not_null())\n",
    "    .filter(pl.col(\"WERKZEKERHEID_5\").is_not_null())\n",
    "    .filter(pl.col(\"TOTAAL_1\").is_not_null())\n",
    "    .filter(pl.col(\"TOTAAL_2\").is_not_null())\n",
    "    .filter(pl.col(\"TOTAAL_3\").is_not_null())\n",
    "    .filter(pl.col(\"TOTAAL_4\").is_not_null())\n",
    "    .filter(pl.col(\"TOTAAL_5\").is_not_null())\n",
    "    # Schaal 2\n",
    "    .filter(pl.col(\"IDEAAL\").is_not_null())\n",
    "    .filter(pl.col(\"OMSTANDIGHEDEN\").is_not_null())\n",
    "    .filter(pl.col(\"TEVREDEN\").is_not_null())\n",
    "    .filter(pl.col(\"BELANGRIJKE_DINGEN\").is_not_null())\n",
    "    .filter(pl.col(\"NIETS_VERANDEREN\").is_not_null())\n",
    "    # Schaal 3\n",
    "    .filter(pl.col(\"GRONDIG\").is_not_null())\n",
    "    .filter(pl.col(\"SLORDIGHEDEN\").is_not_null())\n",
    "    .filter(pl.col(\"KWALITEITSEISEN\").is_not_null())\n",
    "    .filter(pl.col(\"ANDEREN_PRIJZEN\").is_not_null())\n",
    "    .filter(pl.col(\"PERSOONLIJKE_PROBLEMEN_COLLEGA'S\").is_not_null())\n",
    "    .filter(pl.col(\"BESPREKEN_COLLEGA'S\").is_not_null())\n",
    "    .filter(pl.col(\"SFEER_BEVORDEREN\").is_not_null())\n",
    "    .filter(pl.col(\"GOED_VOELEN\").is_not_null())\n",
    "    .filter(pl.col(\"FAIR_BEHANDELEN\").is_not_null())\n",
    "    .filter(pl.col(\"HELPEN_ZONDER_VRAGEN\").is_not_null())\n",
    "    .filter(pl.col(\"CREATIEVE_OPLOSSINGEN\").is_not_null())\n",
    "    .filter(pl.col(\"VERSCHILLENDE_INVALSHOEKEN\").is_not_null())\n",
    "    .filter(pl.col(\"INNOVATIEVE_STRATEGIEËN\").is_not_null())\n",
    "    .filter(pl.col(\"ONVERWACHTE_WERKSITUATIES\").is_not_null())\n",
    "    .filter(pl.col(\"BEPERKTE_INFORMATIE\").is_not_null())\n",
    "    .filter(pl.col(\"VERANDERENDE_OMSTANDIGHEDEN\").is_not_null())\n",
    "    .filter(pl.col(\"WERKDRUK\").is_not_null())\n",
    "    .filter(pl.col(\"ONVERWACHT_NIEUWS\").is_not_null())\n",
    "    .filter(pl.col(\"TEGENVALLEND_RESULTAAT\").is_not_null())\n",
    ")"
   ]
  },
  {
   "cell_type": "code",
   "execution_count": 223,
   "metadata": {},
   "outputs": [],
   "source": [
    "valid_obse_participants: list[str] = (\n",
    "    obse_lf.group_by(\"PARTICIPANT_ID\")\n",
    "    .len()\n",
    "    .filter(pl.col(\"len\") >= 5)\n",
    "    .select(\"PARTICIPANT_ID\")\n",
    "    .unique()\n",
    "    .collect()\n",
    "    .to_dict(as_series=False)[\"PARTICIPANT_ID\"]\n",
    ")"
   ]
  },
  {
   "cell_type": "code",
   "execution_count": 224,
   "metadata": {},
   "outputs": [],
   "source": [
    "final_survey_lf: pl.LazyFrame = (\n",
    "    final_survey_lf.join(keys, left_on=\"E-MAILADRESSEN\", right_on=\"Email\")\n",
    "    .rename(\n",
    "        {\n",
    "            \"E-MAILADRESSEN\": \"EMAIL\",\n",
    "            \"Id\": \"PARTICIPANT_ID\",\n",
    "        }\n",
    "    )\n",
    "    .drop([\"EMAIL\"])\n",
    ")"
   ]
  },
  {
   "cell_type": "code",
   "execution_count": 225,
   "metadata": {},
   "outputs": [
    {
     "name": "stdout",
     "output_type": "stream",
     "text": [
      "There are 126 valid participants\n"
     ]
    }
   ],
   "source": [
    "valid_sema_participants: list[str] = (\n",
    "    sema_lf.select(\"PARTICIPANT_ID\")\n",
    "    .unique()\n",
    "    .collect()\n",
    "    .to_dict(as_series=False)[\"PARTICIPANT_ID\"]\n",
    ")\n",
    "\n",
    "valid_final_survey_participants: list[str] = (\n",
    "    final_survey_lf.select(\"PARTICIPANT_ID\")\n",
    "    .unique()\n",
    "    .collect()\n",
    "    .to_dict(as_series=False)[\"PARTICIPANT_ID\"]\n",
    ")\n",
    "\n",
    "valid_participants = set.intersection(\n",
    "    set(valid_obse_participants),\n",
    "    set(valid_sema_participants + valid_final_survey_participants),\n",
    ")\n",
    "print(f\"There are {len(valid_participants)} valid participants\")"
   ]
  },
  {
   "cell_type": "code",
   "execution_count": 226,
   "metadata": {},
   "outputs": [],
   "source": [
    "demographics_lf: pl.LazyFrame = pl.scan_csv(f\"{resources.as_posix()}/demographics.csv\").rename({\"Wat is uw e-mailadres?\": \"Email\"})"
   ]
  },
  {
   "cell_type": "code",
   "execution_count": 246,
   "metadata": {},
   "outputs": [
    {
     "name": "stdout",
     "output_type": "stream",
     "text": [
      "21\n"
     ]
    }
   ],
   "source": [
    "demo_peeps = set(\n",
    "    demographics_lf.select(\"Email\").unique().collect().to_dict(as_series=False)[\"Email\"]\n",
    ")\n",
    "key_mails = set(\n",
    "    keys.filter(pl.col(\"Id\").is_in(valid_participants))\n",
    "    .collect().to_dict(as_series=False)[\"Email\"]\n",
    ")\n",
    "for p in demo_peeps:\n",
    "    try:\n",
    "        key_mails.remove(p)\n",
    "    except:\n",
    "        continue\n",
    "print(len(key_mails))"
   ]
  },
  {
   "cell_type": "code",
   "execution_count": 228,
   "metadata": {},
   "outputs": [],
   "source": [
    "\n",
    "demographics_lf: pl.LazyFrame = (\n",
    "    demographics_lf.join(keys, left_on=\"Email\", right_on=\"Email\")\n",
    "    .rename({\"Id\": \"PARTICIPANT_ID\"})\n",
    "    .filter(pl.col(\"PARTICIPANT_ID\").is_in(valid_participants))\n",
    ").sort(\"PARTICIPANT_ID\")\n",
    "write_csv_and_excel(demographics_lf, \"demographics\")"
   ]
  },
  {
   "cell_type": "code",
   "execution_count": 229,
   "metadata": {},
   "outputs": [],
   "source": [
    "expr = pl.col(\"1\")\n",
    "for i in range(2, 11):\n",
    "    expr = expr + pl.col(str(i))\n",
    "obse_lf = (\n",
    "    obse_lf.filter(pl.col(\"PARTICIPANT_ID\").is_in(valid_participants))\n",
    "    .with_columns(expr.alias(\"DAILY_TOTAL\"))\n",
    "    .sort(\"UPLOADED_TS\")\n",
    ")"
   ]
  },
  {
   "cell_type": "code",
   "execution_count": 230,
   "metadata": {},
   "outputs": [],
   "source": [
    "import math\n",
    "from typing import Literal, Union\n",
    "import statistics\n",
    "\n",
    "\n",
    "def maximum_variance(\n",
    "    dataset: list[Union[int, float]], data_min=None, data_max=None\n",
    ") -> float | Literal[0]:\n",
    "    if data_max is None:\n",
    "        data_max: int | float = max(dataset)\n",
    "    if data_min is None:\n",
    "        data_min: int | float = min(dataset)\n",
    "    data_mean: float = statistics.mean(dataset)\n",
    "    data_len: int = len(dataset)\n",
    "    if data_mean == data_min or data_mean == data_max:\n",
    "        return 0\n",
    "    if abs(data_min) > abs(data_max):\n",
    "        tmp: int | float = data_min\n",
    "        data_min = data_max\n",
    "        data_max = tmp\n",
    "    n_max: int = math.floor(\n",
    "        (data_len * data_mean - data_len * data_min) / (data_max - data_min)\n",
    "    )\n",
    "    n_min: int = data_len - (1 + n_max)\n",
    "    if n_max == 0:\n",
    "        data_max = 0\n",
    "    middle: float = data_len * data_mean - n_min * data_min - n_max * data_max\n",
    "    max_var: float = (\n",
    "        n_min * (data_min - data_mean) ** 2\n",
    "        + n_max * (data_max - data_mean) ** 2\n",
    "        + (data_mean - middle) ** 2\n",
    "    ) / (data_len - 1)\n",
    "    return max_var\n",
    "\n",
    "\n",
    "def relative_variance(dataset: list[Union[int, float]]) -> float | Literal[0]:\n",
    "    variance: float = statistics.variance(dataset)\n",
    "    max_variance: float | Literal[0] = maximum_variance(dataset, 10, 70)\n",
    "    if max_variance == 0:\n",
    "        return 0\n",
    "    else:\n",
    "        return variance / max_variance"
   ]
  },
  {
   "cell_type": "code",
   "execution_count": 231,
   "metadata": {},
   "outputs": [
    {
     "name": "stdout",
     "output_type": "stream",
     "text": [
      "0.0011665098777046095\n"
     ]
    }
   ],
   "source": [
    "print(relative_variance([20 for _ in range(4)] + [21 for _ in range(3)] + [22]))"
   ]
  },
  {
   "cell_type": "code",
   "execution_count": 232,
   "metadata": {},
   "outputs": [],
   "source": [
    "obse_participant_mean = obse_lf.group_by(\"PARTICIPANT_ID\").agg(\n",
    "    [\n",
    "        pl.col(\"DAILY_TOTAL\").mean().alias(\"MEAN_OF_DAILY_TOTAL\"),\n",
    "        (pl.col(\"DAILY_TOTAL\").map_elements(relative_variance, return_dtype=pl.Float64).alias(\"RELATIVE_VARIANCE\")),\n",
    "    ]\n",
    ")"
   ]
  },
  {
   "cell_type": "code",
   "execution_count": 233,
   "metadata": {},
   "outputs": [
    {
     "data": {
      "text/html": [
       "<div><style>\n",
       ".dataframe > thead > tr,\n",
       ".dataframe > tbody > tr {\n",
       "  text-align: right;\n",
       "  white-space: pre-wrap;\n",
       "}\n",
       "</style>\n",
       "<small>shape: (126, 3)</small><table border=\"1\" class=\"dataframe\"><thead><tr><th>PARTICIPANT_ID</th><th>MEAN_OF_DAILY_TOTAL</th><th>RELATIVE_VARIANCE</th></tr><tr><td>str</td><td>f64</td><td>f64</td></tr></thead><tbody><tr><td>&quot;s534899668&quot;</td><td>34.9</td><td>0.004698</td></tr><tr><td>&quot;s002119724&quot;</td><td>10.0</td><td>0.0</td></tr><tr><td>&quot;s050384959&quot;</td><td>33.263158</td><td>0.009329</td></tr><tr><td>&quot;s902720224&quot;</td><td>15.5</td><td>0.210153</td></tr><tr><td>&quot;s258623974&quot;</td><td>15.1875</td><td>0.107731</td></tr><tr><td>&hellip;</td><td>&hellip;</td><td>&hellip;</td></tr><tr><td>&quot;s591296924&quot;</td><td>30.333333</td><td>0.059819</td></tr><tr><td>&quot;s362909936&quot;</td><td>13.727273</td><td>0.053778</td></tr><tr><td>&quot;s645814809&quot;</td><td>11.153846</td><td>0.634074</td></tr><tr><td>&quot;s871679285&quot;</td><td>23.307692</td><td>0.17034</td></tr><tr><td>&quot;s817462127&quot;</td><td>11.875</td><td>0.11619</td></tr></tbody></table></div>"
      ],
      "text/plain": [
       "shape: (126, 3)\n",
       "┌────────────────┬─────────────────────┬───────────────────┐\n",
       "│ PARTICIPANT_ID ┆ MEAN_OF_DAILY_TOTAL ┆ RELATIVE_VARIANCE │\n",
       "│ ---            ┆ ---                 ┆ ---               │\n",
       "│ str            ┆ f64                 ┆ f64               │\n",
       "╞════════════════╪═════════════════════╪═══════════════════╡\n",
       "│ s534899668     ┆ 34.9                ┆ 0.004698          │\n",
       "│ s002119724     ┆ 10.0                ┆ 0.0               │\n",
       "│ s050384959     ┆ 33.263158           ┆ 0.009329          │\n",
       "│ s902720224     ┆ 15.5                ┆ 0.210153          │\n",
       "│ s258623974     ┆ 15.1875             ┆ 0.107731          │\n",
       "│ …              ┆ …                   ┆ …                 │\n",
       "│ s591296924     ┆ 30.333333           ┆ 0.059819          │\n",
       "│ s362909936     ┆ 13.727273           ┆ 0.053778          │\n",
       "│ s645814809     ┆ 11.153846           ┆ 0.634074          │\n",
       "│ s871679285     ┆ 23.307692           ┆ 0.17034           │\n",
       "│ s817462127     ┆ 11.875              ┆ 0.11619           │\n",
       "└────────────────┴─────────────────────┴───────────────────┘"
      ]
     },
     "execution_count": 233,
     "metadata": {},
     "output_type": "execute_result"
    }
   ],
   "source": [
    "obse_participant_mean.collect().head(500)"
   ]
  },
  {
   "cell_type": "code",
   "execution_count": 234,
   "metadata": {},
   "outputs": [],
   "source": [
    "sema_lf = sema_lf.filter(pl.col(\"PARTICIPANT_ID\").is_in(valid_participants))\n",
    "final_survey_lf = final_survey_lf.filter(\n",
    "    pl.col(\"PARTICIPANT_ID\").is_in(valid_participants)\n",
    ")"
   ]
  },
  {
   "cell_type": "code",
   "execution_count": 235,
   "metadata": {},
   "outputs": [],
   "source": [
    "schaal1_lf = sema_lf.select(KEEP + SEMA_FINAL_SURVEY_SCHAAL_1_COLUMNS)\n",
    "schaal2_lf = sema_lf.select(KEEP + SEMA_FINAL_SURVEY_SCHAAL_2_COLUMNS)\n",
    "schaal3_lf = sema_lf.select(KEEP + SEMA_FINAL_SURVEY_SCHAAL_3_COLUMNS)"
   ]
  },
  {
   "cell_type": "code",
   "execution_count": 236,
   "metadata": {},
   "outputs": [],
   "source": [
    "# Compute the weighted sum\n",
    "def compute_weighted_sum(lf):\n",
    "    cols = []\n",
    "    for i in SEMA_FINAL_SURVEY_SCHAAL_1_COLUMNS:\n",
    "        string = i.split(\"_\")[0]\n",
    "        if string not in cols:\n",
    "            cols.append(string)\n",
    "    for i in cols:\n",
    "        lf = lf.with_columns(\n",
    "            (\n",
    "                pl.col(f\"{i}_1\")\n",
    "                + pl.col(f\"{i}_2\") * 2\n",
    "                + pl.col(f\"{i}_3\") * 3\n",
    "                + pl.col(f\"{i}_4\") * 4\n",
    "                + pl.col(f\"{i}_5\") * 5\n",
    "            ).alias(i)\n",
    "        )\n",
    "    return lf, cols"
   ]
  },
  {
   "cell_type": "code",
   "execution_count": 237,
   "metadata": {},
   "outputs": [],
   "source": [
    "def compute_mean(lf, from_index, mean_name=\"MEAN\"):\n",
    "    mean_expr = pl.col(lf.columns[from_index])\n",
    "    for column in lf.columns[from_index + 1 :]:\n",
    "        mean_expr += pl.col(column)\n",
    "    return lf.with_columns(mean_expr.alias(mean_name))"
   ]
  },
  {
   "cell_type": "code",
   "execution_count": 238,
   "metadata": {},
   "outputs": [],
   "source": [
    "schaal1_lf, cols = compute_weighted_sum(schaal1_lf)\n",
    "schaal1_lf = schaal1_lf.drop(SEMA_FINAL_SURVEY_SCHAAL_1_COLUMNS)"
   ]
  },
  {
   "cell_type": "code",
   "execution_count": 239,
   "metadata": {},
   "outputs": [],
   "source": [
    "final_survey_schaal1_lf = final_survey_lf.select(KEEP + cols)"
   ]
  },
  {
   "cell_type": "code",
   "execution_count": 240,
   "metadata": {},
   "outputs": [],
   "source": [
    "for col in cols:\n",
    "    final_survey_schaal1_lf = final_survey_schaal1_lf.with_columns(\n",
    "        (6 - pl.col(col)).alias(col)\n",
    "    )"
   ]
  },
  {
   "cell_type": "code",
   "execution_count": 241,
   "metadata": {},
   "outputs": [],
   "source": [
    "schaal1_lf = pl.concat([schaal1_lf, final_survey_schaal1_lf])\n",
    "schaal1_lf = compute_mean(schaal1_lf, 1, \"SCALE_1_TOTAL\")"
   ]
  },
  {
   "cell_type": "code",
   "execution_count": 242,
   "metadata": {},
   "outputs": [],
   "source": [
    "schaal2_lf = pl.concat(\n",
    "    [schaal2_lf, final_survey_lf.select(KEEP + SEMA_FINAL_SURVEY_SCHAAL_2_COLUMNS)]\n",
    ")\n",
    "schaal2_lf = compute_mean(schaal2_lf, 1, \"SCALE_2_TOTAL\").drop(\n",
    "    SEMA_FINAL_SURVEY_SCHAAL_2_COLUMNS\n",
    ")"
   ]
  },
  {
   "cell_type": "code",
   "execution_count": 243,
   "metadata": {},
   "outputs": [],
   "source": [
    "schaal3_lf = pl.concat(\n",
    "    [schaal3_lf, final_survey_lf.select(KEEP + SEMA_FINAL_SURVEY_SCHAAL_3_COLUMNS)]\n",
    ")\n",
    "schaal3_lf = compute_mean(schaal3_lf, 1, \"SCALE_3_TOTAL\")"
   ]
  },
  {
   "cell_type": "code",
   "execution_count": 244,
   "metadata": {},
   "outputs": [],
   "source": [
    "results_lf = (\n",
    "    obse_participant_mean.join(schaal1_lf, on=\"PARTICIPANT_ID\")\n",
    "    .join(schaal2_lf, on=\"PARTICIPANT_ID\")\n",
    "    .join(schaal3_lf, on=\"PARTICIPANT_ID\")\n",
    ")"
   ]
  },
  {
   "cell_type": "code",
   "execution_count": 245,
   "metadata": {},
   "outputs": [],
   "source": [
    "write_csv_and_excel(results_lf, \"results\")"
   ]
  }
 ],
 "metadata": {
  "kernelspec": {
   "display_name": "src-30St-BHy-py3.12",
   "language": "python",
   "name": "python3"
  },
  "language_info": {
   "codemirror_mode": {
    "name": "ipython",
    "version": 3
   },
   "file_extension": ".py",
   "mimetype": "text/x-python",
   "name": "python",
   "nbconvert_exporter": "python",
   "pygments_lexer": "ipython3",
   "version": "3.12.0"
  }
 },
 "nbformat": 4,
 "nbformat_minor": 2
}
